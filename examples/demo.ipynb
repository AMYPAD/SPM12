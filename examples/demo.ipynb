{
 "cells": [
  {
   "cell_type": "markdown",
   "metadata": {},
   "source": [
    "# Coregistration using SPM12\n",
    "\n",
    "Python package requirements: `pip install spm12[demo]`"
   ]
  },
  {
   "cell_type": "code",
   "execution_count": null,
   "metadata": {},
   "outputs": [],
   "source": [
    "from __future__ import print_function\n",
    "%matplotlib notebook\n",
    "\n",
    "from os import path, getenv\n",
    "\n",
    "from miutil.imio import nii\n",
    "from miutil.plot import imscroll\n",
    "import matplotlib.pyplot as plt\n",
    "import numpy as np\n",
    "\n",
    "from spm12 import regseg\n",
    "\n",
    "HOME = getenv(\"DATA_ROOT\", path.expanduser(\"~\"))\n",
    "DATA = path.join(HOME, \"Ab_PET_mMR_test\")\n",
    "MRI = path.join(DATA, \"T1w_N4\", \"t1_S00113_17598013_N4bias_cut.nii.gz\")\n",
    "PET = path.join(\n",
    "    DATA, \"testing_reference\", \"Ab_PET_mMR_ref\", \"basic\", \"17598013_t-3000-3600sec_itr-4_suvr.nii.gz\")\n",
    "if not path.exists(DATA):\n",
    "    raise ValueError(\"\"\"\\\n",
    "Cannot find Ab_PET_mMR_test in ${DATA_ROOT:-~} (%s).\n",
    "Get it from https://zenodo.org/record/3877529\n",
    "\"\"\" % HOME)"
   ]
  },
  {
   "cell_type": "code",
   "execution_count": null,
   "metadata": {},
   "outputs": [],
   "source": [
    "outpath = \".\"\n",
    "print(\"input PET shape:\", nii.getnii(PET).shape)\n",
    "print(\"input MRI shape:\", nii.getnii(MRI).shape)\n",
    "print(\"registering (~1min)\")\n",
    "reg = regseg.coreg_spm(PET, MRI, outpath=outpath)\n",
    "print(\"affine matrix:\")\n",
    "print(reg[\"affine\"])\n",
    "out = regseg.resample_spm(PET, MRI, reg[\"affine\"], outpath=outpath)"
   ]
  },
  {
   "cell_type": "code",
   "execution_count": null,
   "metadata": {},
   "outputs": [],
   "source": [
    "def get_vol(fname):\n",
    "    x = np.nan_to_num(nii.getnii(fname)[:, 100:-120, 120:-120, None])\n",
    "    x -= x.min()\n",
    "    x /= np.percentile(x, 99)\n",
    "    x[x > 1] = 1\n",
    "    return x\n",
    "\n",
    "pet, mri = map(get_vol, [PET, out])\n",
    "zer = np.zeros_like(pet)\n",
    "slicer = imscroll(\n",
    "    {\n",
    "        \"PET\": np.concatenate([pet, zer, zer], axis=-1),\n",
    "        \"Registered MRI\": np.concatenate([zer, zer, mri], axis=-1),\n",
    "        \"Overlay\": np.concatenate([pet * 0.6, zer, mri], axis=-1),\n",
    "    },\n",
    "    cmaps=[\"Reds_r\", \"Blues_r\", None],\n",
    "    figsize=(9.5, 4),\n",
    "    nrows=1, frameon=False)\n",
    "slicer(70)\n",
    "#plt.savefig(path.join(outpath, \"pet_mr_coreg.png\"))"
   ]
  }
 ],
 "metadata": {
  "kernelspec": {
   "display_name": "Python 3",
   "language": "python",
   "name": "python3"
  },
  "language_info": {
   "codemirror_mode": {
    "name": "ipython"
   },
   "file_extension": ".py",
   "mimetype": "text/x-python",
   "name": "python",
   "nbconvert_exporter": "python"
  }
 },
 "nbformat": 4,
 "nbformat_minor": 2
}
